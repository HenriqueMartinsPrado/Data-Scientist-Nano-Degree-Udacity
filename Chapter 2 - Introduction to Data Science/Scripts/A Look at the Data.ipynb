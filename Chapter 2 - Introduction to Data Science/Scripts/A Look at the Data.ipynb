version https://git-lfs.github.com/spec/v1
oid sha256:3181073c21c1e7b45dc56fc9e71d608b281a1b500f3d9a12cc3a08f1b5ddad1c
size 11350
