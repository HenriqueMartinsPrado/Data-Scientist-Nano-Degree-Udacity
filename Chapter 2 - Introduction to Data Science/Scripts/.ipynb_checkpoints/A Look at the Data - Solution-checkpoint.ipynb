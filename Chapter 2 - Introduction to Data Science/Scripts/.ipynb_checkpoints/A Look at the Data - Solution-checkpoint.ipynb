version https://git-lfs.github.com/spec/v1
oid sha256:124a40e9f1b9c4268bda9647455c6a6b1488cfdad1870936a846ac55adf4a979
size 7557
