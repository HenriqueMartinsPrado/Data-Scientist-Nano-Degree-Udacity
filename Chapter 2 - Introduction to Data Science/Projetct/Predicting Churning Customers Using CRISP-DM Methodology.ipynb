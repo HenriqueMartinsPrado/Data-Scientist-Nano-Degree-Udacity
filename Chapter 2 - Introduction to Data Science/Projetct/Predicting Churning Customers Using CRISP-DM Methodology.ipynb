version https://git-lfs.github.com/spec/v1
oid sha256:4ff6f168cfb876edbf1fe63934f15fcf1ab62ea80ba58e1c52b5ec1bfd5e61b3
size 763912
