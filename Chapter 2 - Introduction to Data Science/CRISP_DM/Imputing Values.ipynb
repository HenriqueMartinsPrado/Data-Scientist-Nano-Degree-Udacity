version https://git-lfs.github.com/spec/v1
oid sha256:7241226b951db3bdf79af3a5d57f012b38e38618d02e37d85293ca2138329e4f
size 6124
