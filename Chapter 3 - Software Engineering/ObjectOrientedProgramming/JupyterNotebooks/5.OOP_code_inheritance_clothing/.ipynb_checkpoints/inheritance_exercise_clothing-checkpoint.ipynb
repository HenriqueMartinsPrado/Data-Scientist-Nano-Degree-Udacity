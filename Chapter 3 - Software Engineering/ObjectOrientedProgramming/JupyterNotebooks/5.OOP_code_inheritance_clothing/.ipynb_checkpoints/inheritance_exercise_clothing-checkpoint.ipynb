version https://git-lfs.github.com/spec/v1
oid sha256:0030d958134a9ec7fae6401814c3f44fdc8d66d64c86856239d3d80c187d5560
size 4712
