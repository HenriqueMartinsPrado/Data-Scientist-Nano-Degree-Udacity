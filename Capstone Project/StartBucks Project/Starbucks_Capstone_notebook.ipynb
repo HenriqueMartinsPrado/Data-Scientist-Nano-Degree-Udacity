{
 "cells": [
  {
   "cell_type": "markdown",
   "metadata": {},
   "source": [
    "# Starbucks Capstone Challenge"
   ]
  },
  {
   "source": [
    "## Project Overview\n",
    "\n",
    "In my final project, I aim to answer the following questions:\n",
    "\n",
    "1. What are the main motivators that make an offer convert into a sale?\n",
    "2. Is it possible to predict the acceptance of an offer by a customer with the data sets made available?\n",
    "\n",
    "The data sets used for the development of this project contain simulated data that mimic customer behavior in the Starbucks mobile rewards app. Every few days, Starbucks sends an offer to users of the mobile app. An offer can be just an ad for a drink or a real offer, like a discount or BOGO (buy one and take another). Some users may not receive an offer for certain weeks. Not all users receive the same offer, and that is the challenge to be solved with this data set.\n",
    "\n",
    "As part of the solution and for a better organization of the analysis layout, I will conduct the project using the CRISP-DM methodology."
   ],
   "cell_type": "markdown",
   "metadata": {}
  },
  {
   "source": [
    "## 1. Business Understanding\n",
    "\n",
    "Background: The Starbucks company generates offers and sends them to its customers through the mobile application. Through these offers, they aim to increase the company's revenue by converting these offers into effective sales. as mentioned above in the project overview, the data sets used for the development of this project contain data that simulate the customer's behavior in the mobile application and have the following information:\n",
    "\n",
    "- Offer portfolio, which consists of the attributes of each offer\n",
    "- Demographic data for each customer\n",
    "- Transactional records of events that occur in the application\n",
    "\n",
    "Project objective: The objective of this project is to answer the following questions below\n",
    "\n",
    "1. What are the main motivators that make an offer convert into a sale?\n",
    "2. Is it possible to predict the acceptance of an offer by a customer with a set of data available?\n",
    "\n",
    "Using the data sets available for this project, I develop analyzes to answer the above questions using machine learning models. The use of machine learning models help me to identify the main motivators for generating a good offer, as well as to generate predictions about the acceptance of offers by customers in the mobile application. Throughout the process, I explore characteristics of customers who accept or reject the offers generated and I also explore how much money a customer could spend on an offer that is influencing them.\n",
    "\n",
    "Success Criterion: The success criterion for this project will be to be able to answer the questions defined in the objective based on the analyzes that will be generated."
   ],
   "cell_type": "markdown",
   "metadata": {}
  },
  {
   "source": [
    "### Import Libraries"
   ],
   "cell_type": "markdown",
   "metadata": {}
  },
  {
   "cell_type": "code",
   "execution_count": 16,
   "metadata": {},
   "outputs": [],
   "source": [
    "import pandas as pd\n",
    "import numpy as np\n",
    "import json\n",
    "import math\n",
    "\n",
    "import pandas_profiling\n",
    "\n",
    "from sklearn.preprocessing import PolynomialFeatures\n",
    "from sklearn.preprocessing import StandardScaler\n",
    "\n",
    "from sklearn.tree import DecisionTreeRegressor\n",
    "from sklearn.tree import DecisionTreeClassifier\n",
    "from sklearn.linear_model import Ridge\n",
    "from sklearn.ensemble import RandomForestClassifier\n",
    "\n",
    "from sklearn.model_selection import GridSearchCV\n",
    "from sklearn.model_selection import train_test_split\n",
    "\n",
    "from sklearn.metrics import mean_squared_error\n",
    "from sklearn.metrics import classification_report\n",
    "\n",
    "from time import time\n",
    "\n",
    "import matplotlib.pyplot as plt\n",
    "%matplotlib inline"
   ]
  },
  {
   "source": [
    "### Load Data Sets"
   ],
   "cell_type": "markdown",
   "metadata": {}
  },
  {
   "cell_type": "code",
   "execution_count": 17,
   "metadata": {},
   "outputs": [],
   "source": [
    "portfolio = pd.read_json('data/portfolio.json', orient='records', lines=True)\n",
    "profile = pd.read_json('data/profile.json', orient='records', lines=True)\n",
    "transcript = pd.read_json('data/transcript.json', orient='records', lines=True)"
   ]
  },
  {
   "source": [
    "## 2. Data Understanding"
   ],
   "cell_type": "markdown",
   "metadata": {}
  },
  {
   "source": [
    "## Exploraroty Data Analisys\n",
    "\n",
    "**Data Sets - Details**\n",
    "\n",
    "The data is contained in three files:\n",
    "\n",
    "* portfolio.json - containing offer ids and meta data about each offer (duration, type, etc.)\n",
    "* profile.json - demographic data for each customer\n",
    "* transcript.json - records for transactions, offers received, offers viewed, and offers completed\n",
    "\n",
    "Below I share an analysis of each data set:\n"
   ],
   "cell_type": "markdown",
   "metadata": {}
  },
  {
   "source": [
    "### Details: portfolio.json\n",
    "* id (string) - offer id\n",
    "* offer_type (string) - type of offer ie BOGO, discount, informational\n",
    "* difficulty (int) - minimum required spend to complete an offer\n",
    "* reward (int) - reward given for completing an offer\n",
    "* duration (int) - time for offer to be open, in days\n",
    "* channels (list of strings)\n",
    "\n",
    "As identified, there are three different types of offers, they are:\n",
    "\n",
    "* BOGO - buy one and get one free\n",
    "* Discount - Discount on purchase\n",
    "* Informational - provides product information\n",
    "\n",
    "The application of each type of offer was not explained in the context of the data set, however I will be assuming that the application of each type of offer is according to the number of days\n",
    "\n",
    "\n"
   ],
   "cell_type": "markdown",
   "metadata": {}
  },
  {
   "cell_type": "code",
   "execution_count": 20,
   "metadata": {},
   "outputs": [
    {
     "output_type": "stream",
     "name": "stderr",
     "text": [
      "Summarize dataset: 100%|██████████| 20/20 [00:03<00:00,  6.36it/s, Completed]\n",
      "Generate report structure: 100%|██████████| 1/1 [00:03<00:00,  3.38s/it]\n",
      "Render HTML: 100%|██████████| 1/1 [00:00<00:00,  1.30it/s]\n",
      "Export report to file: 100%|██████████| 1/1 [00:00<00:00, 99.98it/s]\n"
     ]
    }
   ],
   "source": [
    "# Generating report for exploratory data analysis using pandas profiling library\n",
    "portfolio.profile_report()\n",
    "\n",
    "profile_portfolio = portfolio.profile_report(title='EDA - Pandas Profiling - Portfolio')\n",
    "profile_portfolio.to_file(output_file=r'C:\\Users\\hik_m\\Documents\\Jornada do Conhecimento\\Udacity\\Data Scientist Nano Degree\\Capstone Project\\StartBucks Project\\EDA - Pandas Profiling - Portfolio.html')"
   ]
  },
  {
   "cell_type": "code",
   "execution_count": 18,
   "metadata": {},
   "outputs": [
    {
     "output_type": "execute_result",
     "data": {
      "text/plain": [
       "   reward                      channels  difficulty  duration     offer_type  \\\n",
       "0      10       [email, mobile, social]          10         7           bogo   \n",
       "1      10  [web, email, mobile, social]          10         5           bogo   \n",
       "2       0          [web, email, mobile]           0         4  informational   \n",
       "3       5          [web, email, mobile]           5         7           bogo   \n",
       "4       5                  [web, email]          20        10       discount   \n",
       "5       3  [web, email, mobile, social]           7         7       discount   \n",
       "6       2  [web, email, mobile, social]          10        10       discount   \n",
       "7       0       [email, mobile, social]           0         3  informational   \n",
       "8       5  [web, email, mobile, social]           5         5           bogo   \n",
       "9       2          [web, email, mobile]          10         7       discount   \n",
       "\n",
       "                                 id  \n",
       "0  ae264e3637204a6fb9bb56bc8210ddfd  \n",
       "1  4d5c57ea9a6940dd891ad53e9dbe8da0  \n",
       "2  3f207df678b143eea3cee63160fa8bed  \n",
       "3  9b98b8c7a33c4b65b9aebfe6a799e6d9  \n",
       "4  0b1e1539f2cc45b7b9fa7c272da2e1d7  \n",
       "5  2298d6c36e964ae4a3e7e9706d1fb8c2  \n",
       "6  fafdcd668e3743c1bb461111dcafc2a4  \n",
       "7  5a8bc65990b245e5a138643cd4eb9837  \n",
       "8  f19421c1d4aa40978ebb69ca19b0e20d  \n",
       "9  2906b810c7d4411798c6938adc9daaa5  "
      ],
      "text/html": "<div>\n<style scoped>\n    .dataframe tbody tr th:only-of-type {\n        vertical-align: middle;\n    }\n\n    .dataframe tbody tr th {\n        vertical-align: top;\n    }\n\n    .dataframe thead th {\n        text-align: right;\n    }\n</style>\n<table border=\"1\" class=\"dataframe\">\n  <thead>\n    <tr style=\"text-align: right;\">\n      <th></th>\n      <th>reward</th>\n      <th>channels</th>\n      <th>difficulty</th>\n      <th>duration</th>\n      <th>offer_type</th>\n      <th>id</th>\n    </tr>\n  </thead>\n  <tbody>\n    <tr>\n      <th>0</th>\n      <td>10</td>\n      <td>[email, mobile, social]</td>\n      <td>10</td>\n      <td>7</td>\n      <td>bogo</td>\n      <td>ae264e3637204a6fb9bb56bc8210ddfd</td>\n    </tr>\n    <tr>\n      <th>1</th>\n      <td>10</td>\n      <td>[web, email, mobile, social]</td>\n      <td>10</td>\n      <td>5</td>\n      <td>bogo</td>\n      <td>4d5c57ea9a6940dd891ad53e9dbe8da0</td>\n    </tr>\n    <tr>\n      <th>2</th>\n      <td>0</td>\n      <td>[web, email, mobile]</td>\n      <td>0</td>\n      <td>4</td>\n      <td>informational</td>\n      <td>3f207df678b143eea3cee63160fa8bed</td>\n    </tr>\n    <tr>\n      <th>3</th>\n      <td>5</td>\n      <td>[web, email, mobile]</td>\n      <td>5</td>\n      <td>7</td>\n      <td>bogo</td>\n      <td>9b98b8c7a33c4b65b9aebfe6a799e6d9</td>\n    </tr>\n    <tr>\n      <th>4</th>\n      <td>5</td>\n      <td>[web, email]</td>\n      <td>20</td>\n      <td>10</td>\n      <td>discount</td>\n      <td>0b1e1539f2cc45b7b9fa7c272da2e1d7</td>\n    </tr>\n    <tr>\n      <th>5</th>\n      <td>3</td>\n      <td>[web, email, mobile, social]</td>\n      <td>7</td>\n      <td>7</td>\n      <td>discount</td>\n      <td>2298d6c36e964ae4a3e7e9706d1fb8c2</td>\n    </tr>\n    <tr>\n      <th>6</th>\n      <td>2</td>\n      <td>[web, email, mobile, social]</td>\n      <td>10</td>\n      <td>10</td>\n      <td>discount</td>\n      <td>fafdcd668e3743c1bb461111dcafc2a4</td>\n    </tr>\n    <tr>\n      <th>7</th>\n      <td>0</td>\n      <td>[email, mobile, social]</td>\n      <td>0</td>\n      <td>3</td>\n      <td>informational</td>\n      <td>5a8bc65990b245e5a138643cd4eb9837</td>\n    </tr>\n    <tr>\n      <th>8</th>\n      <td>5</td>\n      <td>[web, email, mobile, social]</td>\n      <td>5</td>\n      <td>5</td>\n      <td>bogo</td>\n      <td>f19421c1d4aa40978ebb69ca19b0e20d</td>\n    </tr>\n    <tr>\n      <th>9</th>\n      <td>2</td>\n      <td>[web, email, mobile]</td>\n      <td>10</td>\n      <td>7</td>\n      <td>discount</td>\n      <td>2906b810c7d4411798c6938adc9daaa5</td>\n    </tr>\n  </tbody>\n</table>\n</div>"
     },
     "metadata": {},
     "execution_count": 18
    }
   ],
   "source": [
    "# Introducing the first 10 rows of the data set\n",
    "portfolio.head(10)"
   ]
  },
  {
   "source": [
    "It is possible to verify that some scales used in the data are different, for example, the duration column is in days while the difficulty column is in dollars which indicates that I will have to dimension some resources. In addition, the channels column as a list will need to be worked on to make it a categorical variable."
   ],
   "cell_type": "markdown",
   "metadata": {}
  },
  {
   "cell_type": "code",
   "execution_count": 22,
   "metadata": {},
   "outputs": [
    {
     "output_type": "execute_result",
     "data": {
      "text/plain": [
       "10"
      ]
     },
     "metadata": {},
     "execution_count": 22
    }
   ],
   "source": [
    "# Verifyng the number of unique offers\n",
    "portfolio.id.nunique()"
   ]
  },
  {
   "cell_type": "code",
   "execution_count": 23,
   "metadata": {},
   "outputs": [
    {
     "output_type": "execute_result",
     "data": {
      "text/plain": [
       "offer_type\n",
       "bogo             4\n",
       "discount         4\n",
       "informational    2\n",
       "Name: id, dtype: int64"
      ]
     },
     "metadata": {},
     "execution_count": 23
    }
   ],
   "source": [
    "portfolio.groupby('offer_type')['id'].count()"
   ]
  },
  {
   "source": [
    "As discovered, 10 different ids of offers were found, being 2 informative types, 4 of the BOGO type and 4 of the discount type."
   ],
   "cell_type": "markdown",
   "metadata": {}
  },
  {
   "cell_type": "code",
   "execution_count": 21,
   "metadata": {},
   "outputs": [
    {
     "output_type": "execute_result",
     "data": {
      "text/plain": [
       "reward        0\n",
       "channels      0\n",
       "difficulty    0\n",
       "duration      0\n",
       "offer_type    0\n",
       "id            0\n",
       "dtype: int64"
      ]
     },
     "metadata": {},
     "execution_count": 21
    }
   ],
   "source": [
    "# Veifying null values\n",
    "portfolio.isnull().sum()"
   ]
  },
  {
   "source": [
    "As verified, there are no null values in the data set. There is no need to adopt any strategy at this point"
   ],
   "cell_type": "markdown",
   "metadata": {}
  },
  {
   "cell_type": "code",
   "execution_count": null,
   "metadata": {},
   "outputs": [],
   "source": []
  },
  {
   "cell_type": "code",
   "execution_count": null,
   "metadata": {},
   "outputs": [],
   "source": []
  },
  {
   "cell_type": "code",
   "execution_count": null,
   "metadata": {},
   "outputs": [],
   "source": []
  },
  {
   "cell_type": "code",
   "execution_count": null,
   "metadata": {},
   "outputs": [],
   "source": []
  },
  {
   "cell_type": "code",
   "execution_count": null,
   "metadata": {},
   "outputs": [],
   "source": []
  },
  {
   "cell_type": "code",
   "execution_count": null,
   "metadata": {},
   "outputs": [],
   "source": []
  },
  {
   "cell_type": "code",
   "execution_count": null,
   "metadata": {},
   "outputs": [],
   "source": []
  },
  {
   "cell_type": "code",
   "execution_count": null,
   "metadata": {},
   "outputs": [],
   "source": []
  },
  {
   "cell_type": "code",
   "execution_count": null,
   "metadata": {},
   "outputs": [],
   "source": []
  },
  {
   "cell_type": "code",
   "execution_count": null,
   "metadata": {},
   "outputs": [],
   "source": []
  },
  {
   "cell_type": "code",
   "execution_count": null,
   "metadata": {},
   "outputs": [],
   "source": []
  },
  {
   "cell_type": "code",
   "execution_count": null,
   "metadata": {},
   "outputs": [],
   "source": []
  },
  {
   "cell_type": "code",
   "execution_count": null,
   "metadata": {},
   "outputs": [],
   "source": []
  },
  {
   "cell_type": "code",
   "execution_count": null,
   "metadata": {},
   "outputs": [],
   "source": []
  },
  {
   "cell_type": "code",
   "execution_count": null,
   "metadata": {},
   "outputs": [],
   "source": []
  },
  {
   "cell_type": "code",
   "execution_count": null,
   "metadata": {},
   "outputs": [],
   "source": []
  },
  {
   "cell_type": "code",
   "execution_count": null,
   "metadata": {},
   "outputs": [],
   "source": []
  },
  {
   "cell_type": "code",
   "execution_count": null,
   "metadata": {},
   "outputs": [],
   "source": []
  },
  {
   "cell_type": "code",
   "execution_count": null,
   "metadata": {},
   "outputs": [],
   "source": []
  },
  {
   "cell_type": "code",
   "execution_count": null,
   "metadata": {},
   "outputs": [],
   "source": []
  },
  {
   "source": [
    "\n",
    "\n",
    "**profile.json**\n",
    "* age (int) - age of the customer \n",
    "* became_member_on (int) - date when customer created an app account\n",
    "* gender (str) - gender of the customer (note some entries contain 'O' for other rather than M or F)\n",
    "* id (str) - customer id\n",
    "* income (float) - customer's income\n",
    "\n",
    "**transcript.json**\n",
    "* event (str) - record description (ie transaction, offer received, offer viewed, etc.)\n",
    "* person (str) - customer id\n",
    "* time (int) - time in hours since start of test. The data begins at time t=0\n",
    "* value - (dict of strings) - either an offer id or transaction amount depending on the record\n",
    "\n"
   ],
   "cell_type": "markdown",
   "metadata": {}
  },
  {
   "cell_type": "code",
   "execution_count": null,
   "metadata": {},
   "outputs": [],
   "source": []
  }
 ],
 "metadata": {
  "kernelspec": {
   "display_name": "Python 3",
   "language": "python",
   "name": "python3"
  },
  "language_info": {
   "codemirror_mode": {
    "name": "ipython",
    "version": 3
   },
   "file_extension": ".py",
   "mimetype": "text/x-python",
   "name": "python",
   "nbconvert_exporter": "python",
   "pygments_lexer": "ipython3",
   "version": "3.8.5-final"
  }
 },
 "nbformat": 4,
 "nbformat_minor": 2
}