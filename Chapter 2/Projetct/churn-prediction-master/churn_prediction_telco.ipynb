version https://git-lfs.github.com/spec/v1
oid sha256:d98cd8cd342380d7b673fca91186f72f6391ecd226eeb463a458acff84bea479
size 826667
