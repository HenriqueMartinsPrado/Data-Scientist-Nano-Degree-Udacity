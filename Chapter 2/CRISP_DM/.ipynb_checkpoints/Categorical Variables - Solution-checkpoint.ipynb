version https://git-lfs.github.com/spec/v1
oid sha256:cc9452c34a2a9efdf6f786e2dec52fd63ea981a0e95cfd172efce58bc1650192
size 25329
