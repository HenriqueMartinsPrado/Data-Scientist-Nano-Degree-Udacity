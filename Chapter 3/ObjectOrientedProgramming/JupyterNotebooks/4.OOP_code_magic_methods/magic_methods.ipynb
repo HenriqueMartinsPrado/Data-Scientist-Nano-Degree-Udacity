version https://git-lfs.github.com/spec/v1
oid sha256:483280a49752b5974c94c0253ab64ea48c4a7c2e133bc119ffa8e8cfeec5b241
size 14357
