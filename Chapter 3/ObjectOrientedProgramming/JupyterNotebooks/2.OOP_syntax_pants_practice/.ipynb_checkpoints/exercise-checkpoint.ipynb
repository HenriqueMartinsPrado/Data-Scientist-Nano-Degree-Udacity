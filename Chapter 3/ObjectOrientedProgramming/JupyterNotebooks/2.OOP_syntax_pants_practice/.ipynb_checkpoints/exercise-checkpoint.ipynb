version https://git-lfs.github.com/spec/v1
oid sha256:6afd0c3fee8c32079558e3bb0b73fb327ce804557734b617e2831dde0d7670b0
size 14167
