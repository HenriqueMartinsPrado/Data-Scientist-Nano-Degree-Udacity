{
 "cells": [
  {
   "cell_type": "markdown",
   "metadata": {},
   "source": [
    "# Data Science Test - Hospital Israelita Albert Einstein\n",
    "## Autor: Henrique Martins Prado\n",
    "#### *** No final deste arquivo se encontra a síntese de resultados e conclusões das análises ***"
   ]
  },
  {
   "cell_type": "markdown",
   "metadata": {},
   "source": [
    "### Carregando as bibliotecas"
   ]
  },
  {
   "cell_type": "code",
   "execution_count": 12,
   "metadata": {},
   "outputs": [],
   "source": [
    "import pandas as pd\n",
    "import numpy as np\n",
    "import matplotlib.pyplot as plt\n",
    "import seaborn as sns\n",
    "\n",
    "from sklearn.model_selection import train_test_split\n",
    "\n",
    "from sklearn.linear_model import LogisticRegression\n",
    "from sklearn.naive_bayes import GaussianNB\n",
    "from sklearn.metrics import confusion_matrix, accuracy_score, classification_report\n",
    "from sklearn.ensemble import RandomForestClassifier\n",
    "from sklearn.tree import DecisionTreeClassifier\n",
    "\n",
    "from yellowbrick.classifier import ConfusionMatrix\n",
    "from sklearn.metrics import roc_auc_score\n",
    "from sklearn.metrics import roc_curve\n",
    "\n",
    "# from sklearn.svm import SVC\n",
    "# from sklearn.ensemble import ExtraTreesClassifier\n",
    "# import graphviz\n",
    "# from sklearn.tree import export_graphviz"
   ]
  },
  {
   "cell_type": "markdown",
   "metadata": {},
   "source": [
    "### Realizando a configuração do jupyter notebook"
   ]
  },
  {
   "cell_type": "code",
   "execution_count": 13,
   "metadata": {},
   "outputs": [
    {
     "data": {
      "text/html": [
       "<style>.container {width:90% !important;}</style>"
      ],
      "text/plain": [
       "<IPython.core.display.HTML object>"
      ]
     },
     "metadata": {},
     "output_type": "display_data"
    }
   ],
   "source": [
    "from IPython.core.display import display, HTML \n",
    "display(HTML(\"<style>.container {width:90% !important;}</style>\"))\n",
    "\n",
    "pd.set_option('display.max_columns', 50)\n",
    "pd.set_option('display.max_rows', 2000)"
   ]
  },
  {
   "cell_type": "markdown",
   "metadata": {},
   "source": [
    "### Carregando o dataset chamado de dfPoints"
   ]
  },
  {
   "cell_type": "code",
   "execution_count": 14,
   "metadata": {},
   "outputs": [
    {
     "data": {
      "text/plain": [
       "(10000, 5)"
      ]
     },
     "execution_count": 14,
     "metadata": {},
     "output_type": "execute_result"
    }
   ],
   "source": [
    "dfPoints = pd.read_csv(r\"C:\\Users\\Henrique.HENRIQUE\\Documents\\Empresas\\Entrevistas\\Hospital Albert Einstein\\Cientista de Dados\\df_points.txt\", delimiter=\"\\t\")\n",
    "\n",
    "# Visualizando quantidade de linhas X colunas\n",
    "dfPoints.shape"
   ]
  },
  {
   "cell_type": "markdown",
   "metadata": {},
   "source": [
    "### Análise Exploratória de Dados"
   ]
  },
  {
   "cell_type": "code",
   "execution_count": 15,
   "metadata": {},
   "outputs": [
    {
     "data": {
      "text/html": [
       "<div>\n",
       "<style scoped>\n",
       "    .dataframe tbody tr th:only-of-type {\n",
       "        vertical-align: middle;\n",
       "    }\n",
       "\n",
       "    .dataframe tbody tr th {\n",
       "        vertical-align: top;\n",
       "    }\n",
       "\n",
       "    .dataframe thead th {\n",
       "        text-align: right;\n",
       "    }\n",
       "</style>\n",
       "<table border=\"1\" class=\"dataframe\">\n",
       "  <thead>\n",
       "    <tr style=\"text-align: right;\">\n",
       "      <th></th>\n",
       "      <th>Unnamed: 0</th>\n",
       "      <th>x</th>\n",
       "      <th>y</th>\n",
       "      <th>z</th>\n",
       "      <th>label</th>\n",
       "    </tr>\n",
       "  </thead>\n",
       "  <tbody>\n",
       "    <tr>\n",
       "      <td>0</td>\n",
       "      <td>0</td>\n",
       "      <td>326.488285</td>\n",
       "      <td>188.988808</td>\n",
       "      <td>-312.205307</td>\n",
       "      <td>0.0</td>\n",
       "    </tr>\n",
       "    <tr>\n",
       "      <td>1</td>\n",
       "      <td>1</td>\n",
       "      <td>-314.287214</td>\n",
       "      <td>307.276723</td>\n",
       "      <td>-179.037412</td>\n",
       "      <td>1.0</td>\n",
       "    </tr>\n",
       "    <tr>\n",
       "      <td>2</td>\n",
       "      <td>2</td>\n",
       "      <td>-328.208910</td>\n",
       "      <td>181.627758</td>\n",
       "      <td>446.311062</td>\n",
       "      <td>1.0</td>\n",
       "    </tr>\n",
       "    <tr>\n",
       "      <td>3</td>\n",
       "      <td>3</td>\n",
       "      <td>-148.658890</td>\n",
       "      <td>147.027947</td>\n",
       "      <td>-27.477959</td>\n",
       "      <td>1.0</td>\n",
       "    </tr>\n",
       "    <tr>\n",
       "      <td>4</td>\n",
       "      <td>4</td>\n",
       "      <td>-467.065931</td>\n",
       "      <td>250.467651</td>\n",
       "      <td>-306.475330</td>\n",
       "      <td>1.0</td>\n",
       "    </tr>\n",
       "  </tbody>\n",
       "</table>\n",
       "</div>"
      ],
      "text/plain": [
       "   Unnamed: 0           x           y           z  label\n",
       "0           0  326.488285  188.988808 -312.205307    0.0\n",
       "1           1 -314.287214  307.276723 -179.037412    1.0\n",
       "2           2 -328.208910  181.627758  446.311062    1.0\n",
       "3           3 -148.658890  147.027947  -27.477959    1.0\n",
       "4           4 -467.065931  250.467651 -306.475330    1.0"
      ]
     },
     "execution_count": 15,
     "metadata": {},
     "output_type": "execute_result"
    }
   ],
   "source": [
    "# Visualizando os primeiros 5 registros\n",
    "dfPoints.head()"
   ]
  },
  {
   "cell_type": "code",
   "execution_count": 16,
   "metadata": {},
   "outputs": [
    {
     "data": {
      "text/html": [
       "<div>\n",
       "<style scoped>\n",
       "    .dataframe tbody tr th:only-of-type {\n",
       "        vertical-align: middle;\n",
       "    }\n",
       "\n",
       "    .dataframe tbody tr th {\n",
       "        vertical-align: top;\n",
       "    }\n",
       "\n",
       "    .dataframe thead th {\n",
       "        text-align: right;\n",
       "    }\n",
       "</style>\n",
       "<table border=\"1\" class=\"dataframe\">\n",
       "  <thead>\n",
       "    <tr style=\"text-align: right;\">\n",
       "      <th></th>\n",
       "      <th>Unnamed: 0</th>\n",
       "      <th>x</th>\n",
       "      <th>y</th>\n",
       "      <th>z</th>\n",
       "      <th>label</th>\n",
       "    </tr>\n",
       "  </thead>\n",
       "  <tbody>\n",
       "    <tr>\n",
       "      <td>9995</td>\n",
       "      <td>9995</td>\n",
       "      <td>-324.762823</td>\n",
       "      <td>-267.451535</td>\n",
       "      <td>73.363576</td>\n",
       "      <td>1.0</td>\n",
       "    </tr>\n",
       "    <tr>\n",
       "      <td>9996</td>\n",
       "      <td>9996</td>\n",
       "      <td>-362.470736</td>\n",
       "      <td>176.772240</td>\n",
       "      <td>138.991471</td>\n",
       "      <td>0.0</td>\n",
       "    </tr>\n",
       "    <tr>\n",
       "      <td>9997</td>\n",
       "      <td>9997</td>\n",
       "      <td>-401.675105</td>\n",
       "      <td>-273.322169</td>\n",
       "      <td>230.795823</td>\n",
       "      <td>1.0</td>\n",
       "    </tr>\n",
       "    <tr>\n",
       "      <td>9998</td>\n",
       "      <td>9998</td>\n",
       "      <td>-378.615726</td>\n",
       "      <td>73.227279</td>\n",
       "      <td>-368.644222</td>\n",
       "      <td>1.0</td>\n",
       "    </tr>\n",
       "    <tr>\n",
       "      <td>9999</td>\n",
       "      <td>9999</td>\n",
       "      <td>274.771830</td>\n",
       "      <td>-140.925809</td>\n",
       "      <td>59.427905</td>\n",
       "      <td>0.0</td>\n",
       "    </tr>\n",
       "  </tbody>\n",
       "</table>\n",
       "</div>"
      ],
      "text/plain": [
       "      Unnamed: 0           x           y           z  label\n",
       "9995        9995 -324.762823 -267.451535   73.363576    1.0\n",
       "9996        9996 -362.470736  176.772240  138.991471    0.0\n",
       "9997        9997 -401.675105 -273.322169  230.795823    1.0\n",
       "9998        9998 -378.615726   73.227279 -368.644222    1.0\n",
       "9999        9999  274.771830 -140.925809   59.427905    0.0"
      ]
     },
     "execution_count": 16,
     "metadata": {},
     "output_type": "execute_result"
    }
   ],
   "source": [
    "# Visualizando os últimos 5 registros\n",
    "dfPoints.tail() #"
   ]
  },
  {
   "cell_type": "code",
   "execution_count": 17,
   "metadata": {},
   "outputs": [
    {
     "data": {
      "text/plain": [
       "Index(['Unnamed: 0', 'x', 'y', 'z', 'label'], dtype='object')"
      ]
     },
     "execution_count": 17,
     "metadata": {},
     "output_type": "execute_result"
    }
   ],
   "source": [
    "# Visualizando apenas as colunas do dataset\n",
    "dfPoints.columns"
   ]
  },
  {
   "cell_type": "code",
   "execution_count": 18,
   "metadata": {},
   "outputs": [
    {
     "data": {
      "text/plain": [
       "Unnamed: 0      int64\n",
       "x             float64\n",
       "y             float64\n",
       "z             float64\n",
       "label         float64\n",
       "dtype: object"
      ]
     },
     "execution_count": 18,
     "metadata": {},
     "output_type": "execute_result"
    }
   ],
   "source": [
    "# Verificando os tipos de dados das colunas do meu dataset\n",
    "dfPoints.dtypes"
   ]
  },
  {
   "cell_type": "markdown",
   "metadata": {},
   "source": [
    "#### Apresentando informações estatísticas do dataset"
   ]
  },
  {
   "cell_type": "code",
   "execution_count": 19,
   "metadata": {},
   "outputs": [
    {
     "data": {
      "text/html": [
       "<div>\n",
       "<style scoped>\n",
       "    .dataframe tbody tr th:only-of-type {\n",
       "        vertical-align: middle;\n",
       "    }\n",
       "\n",
       "    .dataframe tbody tr th {\n",
       "        vertical-align: top;\n",
       "    }\n",
       "\n",
       "    .dataframe thead th {\n",
       "        text-align: right;\n",
       "    }\n",
       "</style>\n",
       "<table border=\"1\" class=\"dataframe\">\n",
       "  <thead>\n",
       "    <tr style=\"text-align: right;\">\n",
       "      <th></th>\n",
       "      <th>x</th>\n",
       "      <th>y</th>\n",
       "      <th>z</th>\n",
       "      <th>label</th>\n",
       "    </tr>\n",
       "  </thead>\n",
       "  <tbody>\n",
       "    <tr>\n",
       "      <td>count</td>\n",
       "      <td>10000.000000</td>\n",
       "      <td>10000.000000</td>\n",
       "      <td>10000.000000</td>\n",
       "      <td>10000.000000</td>\n",
       "    </tr>\n",
       "    <tr>\n",
       "      <td>mean</td>\n",
       "      <td>0.850362</td>\n",
       "      <td>-3.108769</td>\n",
       "      <td>-2.601124</td>\n",
       "      <td>0.502700</td>\n",
       "    </tr>\n",
       "    <tr>\n",
       "      <td>std</td>\n",
       "      <td>288.379928</td>\n",
       "      <td>287.120263</td>\n",
       "      <td>290.379789</td>\n",
       "      <td>0.500018</td>\n",
       "    </tr>\n",
       "    <tr>\n",
       "      <td>min</td>\n",
       "      <td>-499.802348</td>\n",
       "      <td>-499.899134</td>\n",
       "      <td>-499.952571</td>\n",
       "      <td>0.000000</td>\n",
       "    </tr>\n",
       "    <tr>\n",
       "      <td>25%</td>\n",
       "      <td>-249.199895</td>\n",
       "      <td>-248.954580</td>\n",
       "      <td>-258.005693</td>\n",
       "      <td>0.000000</td>\n",
       "    </tr>\n",
       "    <tr>\n",
       "      <td>50%</td>\n",
       "      <td>3.663472</td>\n",
       "      <td>-5.446168</td>\n",
       "      <td>-8.221000</td>\n",
       "      <td>1.000000</td>\n",
       "    </tr>\n",
       "    <tr>\n",
       "      <td>75%</td>\n",
       "      <td>248.879970</td>\n",
       "      <td>244.395864</td>\n",
       "      <td>252.930406</td>\n",
       "      <td>1.000000</td>\n",
       "    </tr>\n",
       "    <tr>\n",
       "      <td>max</td>\n",
       "      <td>499.872453</td>\n",
       "      <td>499.752418</td>\n",
       "      <td>499.872329</td>\n",
       "      <td>1.000000</td>\n",
       "    </tr>\n",
       "  </tbody>\n",
       "</table>\n",
       "</div>"
      ],
      "text/plain": [
       "                  x             y             z         label\n",
       "count  10000.000000  10000.000000  10000.000000  10000.000000\n",
       "mean       0.850362     -3.108769     -2.601124      0.502700\n",
       "std      288.379928    287.120263    290.379789      0.500018\n",
       "min     -499.802348   -499.899134   -499.952571      0.000000\n",
       "25%     -249.199895   -248.954580   -258.005693      0.000000\n",
       "50%        3.663472     -5.446168     -8.221000      1.000000\n",
       "75%      248.879970    244.395864    252.930406      1.000000\n",
       "max      499.872453    499.752418    499.872329      1.000000"
      ]
     },
     "execution_count": 19,
     "metadata": {},
     "output_type": "execute_result"
    }
   ],
   "source": [
    "# Removi a coluna 0 (Unnamed:0) do dataset, porque é uma coluna ranqueamento do dataset df_points.txt \n",
    "estatisticas = dfPoints.iloc[:, 1:5]\n",
    "estatisticas.describe()"
   ]
  },
  {
   "cell_type": "markdown",
   "metadata": {},
   "source": [
    "#### Correlação das variáveis"
   ]
  },
  {
   "cell_type": "markdown",
   "metadata": {},
   "source": [
    "##### Entre variáveis independentes"
   ]
  },
  {
   "cell_type": "code",
   "execution_count": 20,
   "metadata": {},
   "outputs": [
    {
     "data": {
      "text/plain": [
       "array([[ 1.        , -0.00787305],\n",
       "       [-0.00787305,  1.        ]])"
      ]
     },
     "execution_count": 20,
     "metadata": {},
     "output_type": "execute_result"
    }
   ],
   "source": [
    "# Correção entre as variáveis x e y\n",
    "np.corrcoef(dfPoints.x, dfPoints.y)\n",
    "\n",
    "# É possível verificar que possuem correlação baixíssima. \n",
    "# Quanto mais próximo de 1 ou -1 indica alto índice de correlação"
   ]
  },
  {
   "cell_type": "code",
   "execution_count": 21,
   "metadata": {},
   "outputs": [
    {
     "data": {
      "text/plain": [
       "array([[1.00000000e+00, 3.31426928e-04],\n",
       "       [3.31426928e-04, 1.00000000e+00]])"
      ]
     },
     "execution_count": 21,
     "metadata": {},
     "output_type": "execute_result"
    }
   ],
   "source": [
    "# Correção entre as variáveis x e y\n",
    "np.corrcoef(dfPoints.x, dfPoints.z)\n",
    "\n",
    "# É possível verificar que possuem alguma correlação (-0.68573072)"
   ]
  },
  {
   "cell_type": "code",
   "execution_count": 22,
   "metadata": {},
   "outputs": [
    {
     "data": {
      "text/plain": [
       "array([[1.        , 0.00763605],\n",
       "       [0.00763605, 1.        ]])"
      ]
     },
     "execution_count": 22,
     "metadata": {},
     "output_type": "execute_result"
    }
   ],
   "source": [
    "# Correção entre as variáveis y e z\n",
    "np.corrcoef(dfPoints.y, dfPoints.z)\n",
    "\n",
    "# É possível verificar que possuem correlação baixa como apresentado na correlação entre x e y"
   ]
  },
  {
   "cell_type": "code",
   "execution_count": 23,
   "metadata": {},
   "outputs": [
    {
     "data": {
      "text/plain": [
       "1.0    5027\n",
       "0.0    4973\n",
       "Name: label, dtype: int64"
      ]
     },
     "execution_count": 23,
     "metadata": {},
     "output_type": "execute_result"
    }
   ],
   "source": [
    "# Verificando a quantidade de instâncias relacionadas as saídas 1 e 0 da minha variável dependente label.\n",
    "dfPoints['label'].value_counts()"
   ]
  },
  {
   "cell_type": "code",
   "execution_count": 24,
   "metadata": {},
   "outputs": [
    {
     "data": {
      "image/png": "[encoded data removed]",
      "text/plain": [
       "<Figure size 432x288 with 1 Axes>"
      ]
     },
     "metadata": {
      "needs_background": "light"
     },
     "output_type": "display_data"
    },
    {
     "data": {
      "text/plain": [
       "<Figure size 432x288 with 0 Axes>"
      ]
     },
     "metadata": {},
     "output_type": "display_data"
    }
   ],
   "source": [
    "# Gerando gráfico para ver distribuição da variável dependente label\n",
    "sns.countplot(x = 'label', data = dfPoints, palette = 'hls')\n",
    "plt.show()\n",
    "plt.savefig('count_plot')\n",
    "\n",
    "# Obs.: É possível ver que a ditribuição é bem semelhante, ou seja, temos quase a mesma quantidade de 1 e 0 na minha variável dependente chamada de label."
   ]
  },
  {
   "cell_type": "markdown",
   "metadata": {},
   "source": [
    "### Segregando o dataset com variáveis previsoras (independentes) da minha variável a ser prevista (label/dependente) "
   ]
  },
  {
   "cell_type": "markdown",
   "metadata": {},
   "source": [
    "#### Previsoras"
   ]
  },
  {
   "cell_type": "code",
   "execution_count": 25,
   "metadata": {},
   "outputs": [],
   "source": [
    "# Como estou pegando o intervalo ele está capturando da coluna 0 até a coluna 19\n",
    "previsoras = dfPoints.iloc[:, 1:4].values "
   ]
  },
  {
   "cell_type": "code",
   "execution_count": 26,
   "metadata": {},
   "outputs": [
    {
     "data": {
      "text/plain": [
       "array([[ 326.48828486,  188.98880779, -312.20530651],\n",
       "       [-314.28721419,  307.27672314, -179.03741228],\n",
       "       [-328.20891006,  181.62775751,  446.3110616 ],\n",
       "       ...,\n",
       "       [-401.67510502, -273.32216919,  230.79582259],\n",
       "       [-378.61572605,   73.22727899, -368.64422212],\n",
       "       [ 274.77182961, -140.92580912,   59.42790503]])"
      ]
     },
     "execution_count": 26,
     "metadata": {},
     "output_type": "execute_result"
    }
   ],
   "source": [
    "# Obs.: Interessante observar que quando coloco .values no final da minha segregação, automaticamente transformo o dataframe em um array\n",
    "previsoras"
   ]
  },
  {
   "cell_type": "code",
   "execution_count": 27,
   "metadata": {},
   "outputs": [
    {
     "data": {
      "text/plain": [
       "numpy.ndarray"
      ]
     },
     "execution_count": 27,
     "metadata": {},
     "output_type": "execute_result"
    }
   ],
   "source": [
    "type(previsoras) # Apresentando minhas transformação para o formato array ao invés de um dataframe"
   ]
  },
  {
   "cell_type": "code",
   "execution_count": 28,
   "metadata": {},
   "outputs": [
    {
     "data": {
      "text/plain": [
       "array([ 326.48828486,  188.98880779, -312.20530651])"
      ]
     },
     "execution_count": 28,
     "metadata": {},
     "output_type": "execute_result"
    }
   ],
   "source": [
    "# Trazendo todos os valores na posição 0\n",
    "previsoras[0] "
   ]
  },
  {
   "cell_type": "markdown",
   "metadata": {},
   "source": [
    "#### Label"
   ]
  },
  {
   "cell_type": "code",
   "execution_count": 29,
   "metadata": {},
   "outputs": [
    {
     "data": {
      "text/plain": [
       "array([0., 1., 1., ..., 1., 1., 0.])"
      ]
     },
     "execution_count": 29,
     "metadata": {},
     "output_type": "execute_result"
    }
   ],
   "source": [
    "classe = dfPoints.iloc[:, 4].values\n",
    "classe"
   ]
  },
  {
   "cell_type": "markdown",
   "metadata": {},
   "source": [
    "### Utilizando a função train_test_split para separar os dados de treino e teste"
   ]
  },
  {
   "cell_type": "code",
   "execution_count": 30,
   "metadata": {},
   "outputs": [],
   "source": [
    "X_treinamento, X_teste, y_treinamento, y_teste = train_test_split(previsoras, classe, test_size = 0.3, random_state = 0) \n",
    "# Estou utilizando o parametro random_state igual a 0 para garantir que toda vez que eu executar a linhas acima sejam captadas as mesmas segregações\n",
    "# Obs.: Apenas para efeito de justificativa, a separação entre dados de treinamento e teste é para treinar o modelo (função matemática que explica o \"comportamento\") dos dados\n",
    "#e dados de teste para validar a precisão do meu modelo"
   ]
  },
  {
   "cell_type": "code",
   "execution_count": 31,
   "metadata": {},
   "outputs": [
    {
     "name": "stdout",
     "output_type": "stream",
     "text": [
      "__________ Treinamento __________ \n",
      "Dados de Treinamento: (7000, 3) \n",
      "Label de Treinamento: (7000,)\n",
      "\n",
      "_____________ Teste _____________ \n",
      "Dados de Teste: (3000, 3) \n",
      "Label de Teste: (3000,)\n"
     ]
    }
   ],
   "source": [
    "# Verificando a segregação de dados\n",
    "print('__________ Treinamento __________', '\\nDados de Treinamento:' , X_treinamento.shape, '\\nLabel de Treinamento:', y_treinamento.shape)\n",
    "print('\\n_____________ Teste _____________', '\\nDados de Teste:' , X_teste.shape, '\\nLabel de Teste:', y_teste.shape)"
   ]
  },
  {
   "cell_type": "markdown",
   "metadata": {},
   "source": [
    "### Modelo: Regressão Logística"
   ]
  },
  {
   "cell_type": "code",
   "execution_count": 21,
   "metadata": {},
   "outputs": [],
   "source": [
    "# Criando o  modelo de regressão logistica\n",
    "reglog = LogisticRegression()"
   ]
  },
  {
   "cell_type": "code",
   "execution_count": 22,
   "metadata": {},
   "outputs": [
    {
     "name": "stderr",
     "output_type": "stream",
     "text": [
      "c:\\users\\henrique.henrique\\appdata\\local\\programs\\python\\python35\\lib\\site-packages\\sklearn\\linear_model\\logistic.py:432: FutureWarning: Default solver will be changed to 'lbfgs' in 0.22. Specify a solver to silence this warning.\n",
      "  FutureWarning)\n"
     ]
    },
    {
     "data": {
      "text/plain": [
       "LogisticRegression(C=1.0, class_weight=None, dual=False, fit_intercept=True,\n",
       "                   intercept_scaling=1, l1_ratio=None, max_iter=100,\n",
       "                   multi_class='warn', n_jobs=None, penalty='l2',\n",
       "                   random_state=None, solver='warn', tol=0.0001, verbose=0,\n",
       "                   warm_start=False)"
      ]
     },
     "execution_count": 22,
     "metadata": {},
     "output_type": "execute_result"
    }
   ],
   "source": [
    "# Realizando o fit do meu modelo. Em outras palavras, processo de aprendizagem do meu algoritmo de regressão logística\n",
    "reglog.fit(X_treinamento, y_treinamento)"
   ]
  },
  {
   "cell_type": "code",
   "execution_count": 23,
   "metadata": {},
   "outputs": [
    {
     "data": {
      "text/plain": [
       "array([1., 1., 1., ..., 1., 1., 1.])"
      ]
     },
     "execution_count": 23,
     "metadata": {},
     "output_type": "execute_result"
    }
   ],
   "source": [
    "# Realização das previsões utilizando o modelo e os dados de Teste\n",
    "previsoes_reglog = reglog.predict(X_teste)\n",
    "previsoes_reglog"
   ]
  },
  {
   "cell_type": "code",
   "execution_count": 24,
   "metadata": {},
   "outputs": [
    {
     "data": {
      "text/plain": [
       "0.511"
      ]
     },
     "execution_count": 24,
     "metadata": {},
     "output_type": "execute_result"
    }
   ],
   "source": [
    "# Verificação da taxa de acerto\n",
    "taxa_acerto_reglog = accuracy_score(y_teste, previsoes_reglog)\n",
    "taxa_acerto_reglog"
   ]
  },
  {
   "cell_type": "code",
   "execution_count": 25,
   "metadata": {},
   "outputs": [
    {
     "data": {
      "text/plain": [
       "0.489"
      ]
     },
     "execution_count": 25,
     "metadata": {},
     "output_type": "execute_result"
    }
   ],
   "source": [
    "# Verificação da taxa de erro\n",
    "taxa_erro_reglog = 1-taxa_acerto_reglog\n",
    "taxa_erro_reglog"
   ]
  },
  {
   "cell_type": "code",
   "execution_count": 26,
   "metadata": {},
   "outputs": [
    {
     "data": {
      "text/plain": [
       "array([[ 516,  997],\n",
       "       [ 470, 1017]], dtype=int64)"
      ]
     },
     "execution_count": 26,
     "metadata": {},
     "output_type": "execute_result"
    }
   ],
   "source": [
    "# Utilizando a matriz de confusão para comparar os valores encontrados ou previstos com a variável y_teste\n",
    "confusao_reglog = confusion_matrix(y_teste, previsoes_reglog)\n",
    "confusao_reglog"
   ]
  },
  {
   "cell_type": "code",
   "execution_count": 27,
   "metadata": {},
   "outputs": [
    {
     "name": "stderr",
     "output_type": "stream",
     "text": [
      "c:\\users\\henrique.henrique\\appdata\\local\\programs\\python\\python35\\lib\\site-packages\\sklearn\\linear_model\\logistic.py:432: FutureWarning: Default solver will be changed to 'lbfgs' in 0.22. Specify a solver to silence this warning.\n",
      "  FutureWarning)\n"
     ]
    },
    {
     "data": {
      "image/png": "[encoded data removed]",
      "text/plain": [
       "<Figure size 432x288 with 1 Axes>"
      ]
     },
     "metadata": {
      "needs_background": "light"
     },
     "output_type": "display_data"
    },
    {
     "data": {
      "text/plain": [
       "<matplotlib.axes._subplots.AxesSubplot at 0x1f536f0d128>"
      ]
     },
     "execution_count": 27,
     "metadata": {},
     "output_type": "execute_result"
    }
   ],
   "source": [
    "# Crio o objeto v de visualização utilizando a biblioteca yellowbrick para deixar os resultados mais agradáveis\n",
    "v = ConfusionMatrix(LogisticRegression())\n",
    "v.fit(X_treinamento, y_treinamento)\n",
    "v.score(X_teste, y_teste)\n",
    "v.poof()"
   ]
  },
  {
   "cell_type": "code",
   "execution_count": 28,
   "metadata": {},
   "outputs": [
    {
     "name": "stdout",
     "output_type": "stream",
     "text": [
      "              precision    recall  f1-score   support\n",
      "\n",
      "         0.0       0.52      0.34      0.41      1513\n",
      "         1.0       0.50      0.68      0.58      1487\n",
      "\n",
      "    accuracy                           0.51      3000\n",
      "   macro avg       0.51      0.51      0.50      3000\n",
      "weighted avg       0.51      0.51      0.50      3000\n",
      "\n"
     ]
    }
   ],
   "source": [
    "# Verificando o precision, recall, f1-score e support\n",
    "print(classification_report(y_teste, previsoes_reglog))"
   ]
  },
  {
   "cell_type": "code",
   "execution_count": 29,
   "metadata": {},
   "outputs": [
    {
     "data": {
      "image/png": "[encoded data removed]",
      "text/plain": [
       "<Figure size 432x288 with 1 Axes>"
      ]
     },
     "metadata": {
      "needs_background": "light"
     },
     "output_type": "display_data"
    }
   ],
   "source": [
    "# Verificando a curva ROC\n",
    "logit_roc_auc = roc_auc_score(y_teste, reglog.predict(X_teste))\n",
    "fpr, tpr, thresholds = roc_curve(y_teste, reglog.predict_proba(X_teste)[:,1])\n",
    "plt.figure()\n",
    "plt.plot(fpr, tpr, label='Logistic Regression (area = %0.2f)' % logit_roc_auc)\n",
    "plt.plot([0, 1], [0, 1],'r--')\n",
    "plt.xlim([0.0, 1.0])\n",
    "plt.ylim([0.0, 1.05])\n",
    "plt.xlabel('False Positive Rate')\n",
    "plt.ylabel('True Positive Rate')\n",
    "plt.title('Receiver operating characteristic')\n",
    "plt.legend(loc=\"lower right\")\n",
    "plt.savefig('Log_ROC')\n",
    "plt.show()"
   ]
  },
  {
   "cell_type": "markdown",
   "metadata": {},
   "source": [
    "### Modelo: Classificador Naive Bayes - Gaussian"
   ]
  },
  {
   "cell_type": "code",
   "execution_count": 30,
   "metadata": {},
   "outputs": [],
   "source": [
    "# Criando o objeto NaiveBayes\n",
    "naive_bayes = GaussianNB()"
   ]
  },
  {
   "cell_type": "code",
   "execution_count": 31,
   "metadata": {},
   "outputs": [
    {
     "data": {
      "text/plain": [
       "GaussianNB(priors=None, var_smoothing=1e-09)"
      ]
     },
     "execution_count": 31,
     "metadata": {},
     "output_type": "execute_result"
    }
   ],
   "source": [
    "# Vamos fazer o treinamento do modelo com o \"fit\", ou seja, com o fit vou tentar encaixar o dados de treinamento no modelo \n",
    "#tentando relacionar os dados de treinamento (X_treinamento) com as resposta (y_treinamento)\n",
    "naive_bayes.fit(X_treinamento, y_treinamento)\n",
    "\n",
    "# Obs.: Este algoritmo do python não permite que seja verificado as probabilidades que foram geradas, porém a tabela de probabilidade já foi criada.\n",
    "# Assim, não precisarei mais dos dados de X_treinamento, porque o modelo já foi criado e também treinado através do \"fit\" com os dados de treinamento"
   ]
  },
  {
   "cell_type": "code",
   "execution_count": 32,
   "metadata": {},
   "outputs": [],
   "source": [
    "# Efetuando as previsões\n",
    "previsoes_nb = naive_bayes.predict(X_teste)"
   ]
  },
  {
   "cell_type": "code",
   "execution_count": 33,
   "metadata": {},
   "outputs": [
    {
     "data": {
      "text/plain": [
       "array([1., 0., 1., ..., 1., 1., 1.])"
      ]
     },
     "execution_count": 33,
     "metadata": {},
     "output_type": "execute_result"
    }
   ],
   "source": [
    "# Abrindo os valores encontrados de previsão\n",
    "previsoes_nb[:]"
   ]
  },
  {
   "cell_type": "code",
   "execution_count": 34,
   "metadata": {},
   "outputs": [
    {
     "data": {
      "text/plain": [
       "(3000,)"
      ]
     },
     "execution_count": 34,
     "metadata": {},
     "output_type": "execute_result"
    }
   ],
   "source": [
    "# Verificação\n",
    "previsoes_nb.shape # 30% da minha quantidade total, gerou os 3.000 registros esperados"
   ]
  },
  {
   "cell_type": "code",
   "execution_count": 35,
   "metadata": {},
   "outputs": [
    {
     "data": {
      "text/plain": [
       "array([[ 508, 1005],\n",
       "       [ 490,  997]], dtype=int64)"
      ]
     },
     "execution_count": 35,
     "metadata": {},
     "output_type": "execute_result"
    }
   ],
   "source": [
    "# Utilizando a matriz de confusão para comparar os valores encontrados ou previstos com a variável y_teste\n",
    "confusao_nb = confusion_matrix(y_teste, previsoes_nb)\n",
    "confusao_nb"
   ]
  },
  {
   "cell_type": "code",
   "execution_count": 36,
   "metadata": {},
   "outputs": [
    {
     "data": {
      "text/plain": [
       "0.5016666666666667"
      ]
     },
     "execution_count": 36,
     "metadata": {},
     "output_type": "execute_result"
    }
   ],
   "source": [
    "# Verificação da taxa de acerto\n",
    "taxa_acerto_nb = accuracy_score(y_teste, previsoes_nb)\n",
    "taxa_acerto_nb"
   ]
  },
  {
   "cell_type": "code",
   "execution_count": 37,
   "metadata": {},
   "outputs": [
    {
     "data": {
      "text/plain": [
       "0.4983333333333333"
      ]
     },
     "execution_count": 37,
     "metadata": {},
     "output_type": "execute_result"
    }
   ],
   "source": [
    "# Verificação da taxa de erro\n",
    "taxa_erro_nb = 1-taxa_acerto_nb\n",
    "taxa_erro_nb"
   ]
  },
  {
   "cell_type": "code",
   "execution_count": 38,
   "metadata": {},
   "outputs": [
    {
     "data": {
      "image/png": "[encoded data removed]",
      "text/plain": [
       "<Figure size 432x288 with 1 Axes>"
      ]
     },
     "metadata": {
      "needs_background": "light"
     },
     "output_type": "display_data"
    },
    {
     "data": {
      "text/plain": [
       "<matplotlib.axes._subplots.AxesSubplot at 0x1f539032400>"
      ]
     },
     "execution_count": 38,
     "metadata": {},
     "output_type": "execute_result"
    }
   ],
   "source": [
    "# Crio o objeto v de visualização utilizando a biblioteca yellowbrick para deixar os resultados mais agradáveis\n",
    "v = ConfusionMatrix(GaussianNB())\n",
    "v.fit(X_treinamento, y_treinamento)\n",
    "v.score(X_teste, y_teste)\n",
    "v.poof()"
   ]
  },
  {
   "cell_type": "code",
   "execution_count": 39,
   "metadata": {},
   "outputs": [
    {
     "name": "stdout",
     "output_type": "stream",
     "text": [
      "              precision    recall  f1-score   support\n",
      "\n",
      "         0.0       0.51      0.34      0.40      1513\n",
      "         1.0       0.50      0.67      0.57      1487\n",
      "\n",
      "    accuracy                           0.50      3000\n",
      "   macro avg       0.50      0.50      0.49      3000\n",
      "weighted avg       0.50      0.50      0.49      3000\n",
      "\n"
     ]
    }
   ],
   "source": [
    "# Verificando o precision, recall, f1-score e support\n",
    "print(classification_report(y_teste, previsoes_nb))"
   ]
  },
  {
   "cell_type": "code",
   "execution_count": 40,
   "metadata": {},
   "outputs": [
    {
     "data": {
      "image/png": "[encoded data removed]",
      "text/plain": [
       "<Figure size 432x288 with 1 Axes>"
      ]
     },
     "metadata": {
      "needs_background": "light"
     },
     "output_type": "display_data"
    }
   ],
   "source": [
    "# Verificando a curva ROC\n",
    "logit_roc_auc = roc_auc_score(y_teste, naive_bayes.predict(X_teste))\n",
    "fpr, tpr, thresholds = roc_curve(y_teste, naive_bayes.predict_proba(X_teste)[:,1])\n",
    "plt.figure()\n",
    "plt.plot(fpr, tpr, label='Naive Bayes (area = %0.2f)' % logit_roc_auc)\n",
    "plt.plot([0, 1], [0, 1],'r--')\n",
    "plt.xlim([0.0, 1.0])\n",
    "plt.ylim([0.0, 1.05])\n",
    "plt.xlabel('False Positive Rate')\n",
    "plt.ylabel('True Positive Rate')\n",
    "plt.title('Receiver operating characteristic')\n",
    "plt.legend(loc=\"lower right\")\n",
    "plt.savefig('Log_ROC')\n",
    "plt.show()"
   ]
  },
  {
   "cell_type": "markdown",
   "metadata": {},
   "source": [
    "### Modelo: Random Forest"
   ]
  },
  {
   "cell_type": "code",
   "execution_count": 41,
   "metadata": {},
   "outputs": [],
   "source": [
    "# Crio meu objeto no qual recebe o algoritmo\n",
    "floresta = RandomForestClassifier(n_estimators = 10000)\n",
    "\n",
    "# Obs.: O parâmetro n_estimator apresenta a quantidade de árvores que o meu modelo irá utilizar para classificar"
   ]
  },
  {
   "cell_type": "code",
   "execution_count": 42,
   "metadata": {},
   "outputs": [
    {
     "data": {
      "text/plain": [
       "RandomForestClassifier(bootstrap=True, class_weight=None, criterion='gini',\n",
       "                       max_depth=None, max_features='auto', max_leaf_nodes=None,\n",
       "                       min_impurity_decrease=0.0, min_impurity_split=None,\n",
       "                       min_samples_leaf=1, min_samples_split=2,\n",
       "                       min_weight_fraction_leaf=0.0, n_estimators=10000,\n",
       "                       n_jobs=None, oob_score=False, random_state=None,\n",
       "                       verbose=0, warm_start=False)"
      ]
     },
     "execution_count": 42,
     "metadata": {},
     "output_type": "execute_result"
    }
   ],
   "source": [
    "# 'Fito' meu modelo floresta com os dados de treinamento. \n",
    "floresta.fit(X_treinamento, y_treinamento)"
   ]
  },
  {
   "cell_type": "code",
   "execution_count": 43,
   "metadata": {},
   "outputs": [
    {
     "data": {
      "text/plain": [
       "array([0., 1., 1., ..., 1., 1., 1.])"
      ]
     },
     "execution_count": 43,
     "metadata": {},
     "output_type": "execute_result"
    }
   ],
   "source": [
    "# Previsões\n",
    "previsoes_rf = floresta.predict(X_teste)\n",
    "previsoes_rf"
   ]
  },
  {
   "cell_type": "code",
   "execution_count": 44,
   "metadata": {},
   "outputs": [
    {
     "data": {
      "text/plain": [
       "0.7736666666666666"
      ]
     },
     "execution_count": 44,
     "metadata": {},
     "output_type": "execute_result"
    }
   ],
   "source": [
    "# Verificando taxa de acerto\n",
    "taxa_acerto_rf = accuracy_score(y_teste, previsoes_rf)\n",
    "taxa_acerto_rf"
   ]
  },
  {
   "cell_type": "code",
   "execution_count": 45,
   "metadata": {},
   "outputs": [
    {
     "data": {
      "text/plain": [
       "0.2263333333333334"
      ]
     },
     "execution_count": 45,
     "metadata": {},
     "output_type": "execute_result"
    }
   ],
   "source": [
    "# Verificando Taxa de Erro\n",
    "taxa_erro_rf = 1 - taxa_acerto_rf\n",
    "taxa_erro_rf"
   ]
  },
  {
   "cell_type": "code",
   "execution_count": 46,
   "metadata": {},
   "outputs": [
    {
     "data": {
      "text/plain": [
       "array([[1159,  354],\n",
       "       [ 325, 1162]], dtype=int64)"
      ]
     },
     "execution_count": 46,
     "metadata": {},
     "output_type": "execute_result"
    }
   ],
   "source": [
    "# Matrix de confusão\n",
    "confusao_rf = confusion_matrix(y_teste, previsoes_rf)\n",
    "confusao_rf"
   ]
  },
  {
   "cell_type": "code",
   "execution_count": 47,
   "metadata": {},
   "outputs": [
    {
     "name": "stderr",
     "output_type": "stream",
     "text": [
      "c:\\users\\henrique.henrique\\appdata\\local\\programs\\python\\python35\\lib\\site-packages\\sklearn\\ensemble\\forest.py:245: FutureWarning: The default value of n_estimators will change from 10 in version 0.20 to 100 in 0.22.\n",
      "  \"10 in version 0.20 to 100 in 0.22.\", FutureWarning)\n"
     ]
    },
    {
     "data": {
      "image/png": "[encoded data removed]",
      "text/plain": [
       "<Figure size 432x288 with 1 Axes>"
      ]
     },
     "metadata": {
      "needs_background": "light"
     },
     "output_type": "display_data"
    },
    {
     "data": {
      "text/plain": [
       "<matplotlib.axes._subplots.AxesSubplot at 0x1f539010630>"
      ]
     },
     "execution_count": 47,
     "metadata": {},
     "output_type": "execute_result"
    }
   ],
   "source": [
    "# Criando o objeto v de visualização\n",
    "v = ConfusionMatrix(RandomForestClassifier())\n",
    "v.fit(X_treinamento, y_treinamento)\n",
    "v.score(X_teste, y_teste)\n",
    "v.poof()"
   ]
  },
  {
   "cell_type": "code",
   "execution_count": 48,
   "metadata": {},
   "outputs": [
    {
     "name": "stdout",
     "output_type": "stream",
     "text": [
      "              precision    recall  f1-score   support\n",
      "\n",
      "         0.0       0.78      0.77      0.77      1513\n",
      "         1.0       0.77      0.78      0.77      1487\n",
      "\n",
      "    accuracy                           0.77      3000\n",
      "   macro avg       0.77      0.77      0.77      3000\n",
      "weighted avg       0.77      0.77      0.77      3000\n",
      "\n"
     ]
    }
   ],
   "source": [
    "# Verificando o precision, recall, f1-score e support\n",
    "print(classification_report(y_teste, previsoes_rf))"
   ]
  },
  {
   "cell_type": "code",
   "execution_count": 49,
   "metadata": {},
   "outputs": [
    {
     "data": {
      "image/png": "[encoded data removed]",
      "text/plain": [
       "<Figure size 432x288 with 1 Axes>"
      ]
     },
     "metadata": {
      "needs_background": "light"
     },
     "output_type": "display_data"
    }
   ],
   "source": [
    "# Verificando a curva ROC\n",
    "logit_roc_auc = roc_auc_score(y_teste, floresta.predict(X_teste))\n",
    "fpr, tpr, thresholds = roc_curve(y_teste, floresta.predict_proba(X_teste)[:,1])\n",
    "plt.figure()\n",
    "plt.plot(fpr, tpr, label='Random Forest (area = %0.2f)' % logit_roc_auc)\n",
    "plt.plot([0, 1], [0, 1],'r--')\n",
    "plt.xlim([0.0, 1.0])\n",
    "plt.ylim([0.0, 1.05])\n",
    "plt.xlabel('False Positive Rate')\n",
    "plt.ylabel('True Positive Rate')\n",
    "plt.title('Receiver operating characteristic')\n",
    "plt.legend(loc=\"lower right\")\n",
    "plt.savefig('Log_ROC')\n",
    "plt.show()"
   ]
  },
  {
   "cell_type": "markdown",
   "metadata": {},
   "source": [
    "### Modelo: Árvore de Decisão"
   ]
  },
  {
   "cell_type": "code",
   "execution_count": 50,
   "metadata": {},
   "outputs": [],
   "source": [
    "arvore = DecisionTreeClassifier()"
   ]
  },
  {
   "cell_type": "code",
   "execution_count": 51,
   "metadata": {},
   "outputs": [
    {
     "data": {
      "text/plain": [
       "DecisionTreeClassifier(class_weight=None, criterion='gini', max_depth=None,\n",
       "                       max_features=None, max_leaf_nodes=None,\n",
       "                       min_impurity_decrease=0.0, min_impurity_split=None,\n",
       "                       min_samples_leaf=1, min_samples_split=2,\n",
       "                       min_weight_fraction_leaf=0.0, presort=False,\n",
       "                       random_state=None, splitter='best')"
      ]
     },
     "execution_count": 51,
     "metadata": {},
     "output_type": "execute_result"
    }
   ],
   "source": [
    "# Fazendo o aprendizado do modelo\n",
    "arvore.fit(X_treinamento, y_treinamento)"
   ]
  },
  {
   "cell_type": "code",
   "execution_count": 52,
   "metadata": {},
   "outputs": [
    {
     "data": {
      "text/plain": [
       "array([0., 1., 1., ..., 1., 1., 0.])"
      ]
     },
     "execution_count": 52,
     "metadata": {},
     "output_type": "execute_result"
    }
   ],
   "source": [
    "# Realizando as previsões\n",
    "previsoes_ad = arvore.predict(X_teste)\n",
    "previsoes_ad"
   ]
  },
  {
   "cell_type": "code",
   "execution_count": 53,
   "metadata": {},
   "outputs": [
    {
     "data": {
      "text/plain": [
       "0.6706666666666666"
      ]
     },
     "execution_count": 53,
     "metadata": {},
     "output_type": "execute_result"
    }
   ],
   "source": [
    "# Verificando a taxa de acerto\n",
    "taxadeacerto_ad = accuracy_score(y_teste, previsoes_ad)\n",
    "taxadeacerto_ad"
   ]
  },
  {
   "cell_type": "code",
   "execution_count": 54,
   "metadata": {},
   "outputs": [
    {
     "data": {
      "text/plain": [
       "0.32933333333333337"
      ]
     },
     "execution_count": 54,
     "metadata": {},
     "output_type": "execute_result"
    }
   ],
   "source": [
    "# Verificando a taxa de erro\n",
    "taxadeerro_ad = 1 - taxadeacerto_ad\n",
    "taxadeerro_ad"
   ]
  },
  {
   "cell_type": "code",
   "execution_count": 55,
   "metadata": {},
   "outputs": [
    {
     "data": {
      "text/plain": [
       "array([[ 992,  521],\n",
       "       [ 467, 1020]], dtype=int64)"
      ]
     },
     "execution_count": 55,
     "metadata": {},
     "output_type": "execute_result"
    }
   ],
   "source": [
    "# Matrix de confusão\n",
    "confusao_ad = confusion_matrix(y_teste, previsoes_ad)\n",
    "confusao_ad"
   ]
  },
  {
   "cell_type": "code",
   "execution_count": 56,
   "metadata": {},
   "outputs": [
    {
     "data": {
      "image/png": "[encoded data removed]",
      "text/plain": [
       "<Figure size 432x288 with 1 Axes>"
      ]
     },
     "metadata": {
      "needs_background": "light"
     },
     "output_type": "display_data"
    },
    {
     "data": {
      "text/plain": [
       "<matplotlib.axes._subplots.AxesSubplot at 0x1f57f762828>"
      ]
     },
     "execution_count": 56,
     "metadata": {},
     "output_type": "execute_result"
    }
   ],
   "source": [
    "# Crio o objeto v de visualização\n",
    "v = ConfusionMatrix(DecisionTreeClassifier())\n",
    "v.fit(X_treinamento, y_treinamento)\n",
    "v.score(X_teste, y_teste)\n",
    "v.poof()"
   ]
  },
  {
   "cell_type": "code",
   "execution_count": 57,
   "metadata": {},
   "outputs": [
    {
     "name": "stdout",
     "output_type": "stream",
     "text": [
      "              precision    recall  f1-score   support\n",
      "\n",
      "         0.0       0.68      0.66      0.67      1513\n",
      "         1.0       0.66      0.69      0.67      1487\n",
      "\n",
      "    accuracy                           0.67      3000\n",
      "   macro avg       0.67      0.67      0.67      3000\n",
      "weighted avg       0.67      0.67      0.67      3000\n",
      "\n"
     ]
    }
   ],
   "source": [
    "# Verificando o precision, recall, f1-score e support\n",
    "print(classification_report(y_teste, previsoes_ad))"
   ]
  },
  {
   "cell_type": "code",
   "execution_count": 58,
   "metadata": {},
   "outputs": [
    {
     "data": {
      "image/png": "[encoded data removed]",
      "text/plain": [
       "<Figure size 432x288 with 1 Axes>"
      ]
     },
     "metadata": {
      "needs_background": "light"
     },
     "output_type": "display_data"
    }
   ],
   "source": [
    "# Verificando a curva ROC\n",
    "logit_roc_auc = roc_auc_score(y_teste, arvore.predict(X_teste))\n",
    "fpr, tpr, thresholds = roc_curve(y_teste, arvore.predict_proba(X_teste)[:,1])\n",
    "plt.figure()\n",
    "plt.plot(fpr, tpr, label='Arvore de Decisão (area = %0.2f)' % logit_roc_auc)\n",
    "plt.plot([0, 1], [0, 1],'r--')\n",
    "plt.xlim([0.0, 1.0])\n",
    "plt.ylim([0.0, 1.05])\n",
    "plt.xlabel('False Positive Rate')\n",
    "plt.ylabel('True Positive Rate')\n",
    "plt.title('Receiver operating characteristic')\n",
    "plt.legend(loc=\"lower right\")\n",
    "plt.savefig('Log_ROC')\n",
    "plt.show()"
   ]
  },
  {
   "cell_type": "markdown",
   "metadata": {},
   "source": [
    "#### ---------------------------------------------------------------------------------------------------------------------------"
   ]
  },
  {
   "cell_type": "markdown",
   "metadata": {},
   "source": [
    "## Síntese de resultados e conclusões"
   ]
  },
  {
   "cell_type": "markdown",
   "metadata": {},
   "source": [
    "### Problem & Answers\n",
    "\n",
    "1 - Build a classification problem, using the columns x, y and z, trying to classify the label\n",
    "column.\n",
    "\n",
    "    a) Segregate a test and training frame.\n",
    "        Utilizei o comando train_test_split para fazer a segregação dos dados de treinamento e dados de teste. Segreguei os dados dataset dfPoints com 70% para fazer o treinamento dos modelos e 30% (restante) para fazer testes.\n",
    "    \n",
    "    b) Use a GLM or Logistic Regression model and show the results.\n",
    "        Apliquei o modelo de regressão logistica através do comando LogisticRegression() e fiz a apresentação dos resultados encontrados com as previsões encontradas pelo modelo.\n",
    "        \n",
    "    c) Use other method of your choice to handle the problem\n",
    "        Tomei a liberdade de testar outros modelos como Naive-Bayes, Random Forest e Decisions Trees. São modelos aplicados a classificação no aprendizado supervionado.\n",
    "        De maneira objetiva, o modelo:\n",
    "            -Naive Bayes: Gera uma tabela de probabilidade. A classificação da instância ou registro é feita utilizando esta tabela.\n",
    "            -Random Forest: Classifca o novo resgitro tendo como base diversas árvores de decisão. A quantidade que utilizei foram de 10.000 árvores.\n",
    "            -Arvore de decisão: Classifica o novo registro percorrendo cada nó.\n",
    "       \n",
    "    d) Compare and comment the results on the models used from b) and c)\n",
    "        Para comparar e comentar os resultados captados através da criação dos modelos utilizei a matriz de confusão verificando as taxas de acerto e erro dos mesmos, precisisão, recall, f1-score, suporte e curva ROC.\n",
    "        \n",
    "        Abaixo compartilho tabela com ranqueamento dos modelos de acordo com as taxas de acerto e erro encontradas:\n",
    "        \n",
    "            Rank    Modelo                  Taxa de Acerto (TA)      TA(~)        Taxa de Erro (TE)        TE(~)\n",
    "            ----    --------------------    -------------------      -----        -----------------        -----\n",
    "            1       Random Forest           0,772                    77%          0,227                    23% \n",
    "            2       Arvores de Decisão      0,667                    67%          0,332                    33%\n",
    "            3       Regressão Logística     0,511                    51%          0,489                    49%\n",
    "            4       Naive-Bayes             0,501                    50%          0,498                    50%  \n",
    "            \n",
    "        Pode ser observado que o modelo Random Forest apresentou uma taxa de acerto superior aos demais modelos com base nos dados que foram utilizados. Vale ressaltar que poderia ter sido utilizada algumas técnicas como seleçaõ de atributos, tratamento de valores missing, feature engineering, criação de variáveis dummy e outras abordagens fazendo um analise exploratória dos dados como também modificar parâmetros dos modelos para alcançar um melhor ajuste. \n",
    "         \n",
    "        Outro ponto análise foi feito através da precisão, recall, f1-score e suporte.  \n",
    "            A precisão é capacidade do classificador de não rotular uma amostra como positiva se for negativa.\n",
    "            O recall é a capacidade do classificador de encontrar todas as amostras positivas\n",
    "            O F1-score pode ser interpretado com um média harmônica entre a precisão e o recall, onde o melhor valor é 1 e o pior é 0.\n",
    "            O suporte é o numero de ocorrências da classe no y_teste.\n",
    "            \n",
    "                Regressão Logistica ---------------------------------\n",
    "                              precision    recall  f1-score   support\n",
    "                   macro avg       0.51      0.51      0.50      3000\n",
    "                weighted avg       0.51      0.51      0.50      3000\n",
    "                \n",
    "                Naive Bayes -----------------------------------------\n",
    "                              precision    recall  f1-score   support\n",
    "                   macro avg       0.50      0.50      0.49      3000\n",
    "                weighted avg       0.50      0.50      0.49      3000\n",
    "                \n",
    "                Random Forest ---------------------------------------\n",
    "                              precision    recall  f1-score   support\n",
    "                   macro avg       0.77      0.77      0.77      3000\n",
    "                weighted avg       0.77      0.77      0.77      3000\n",
    "                \n",
    "                Árvore de Decisão -----------------------------------\n",
    "                              precision    recall  f1-score   support\n",
    "                   macro avg       0.67      0.67      0.67      3000\n",
    "                weighted avg       0.67      0.67      0.67      3000\n",
    "        \n",
    "            Olhando a tabela acima, pode ser verificado que o modelo Random Forest foi o modelo que apresentou os melhores sinais de precisão quando comparado com os demais modelos. O F1-score apresentado pelo modelo Random Forest foi de 0.77 de 1.\n",
    "        \n",
    "            Por fim a curva ROC é um outra ferramenta bastante utilizada com classificadores binários. A linha pontilhada representa a curva ROC. Um bom classificador fica o mais longe possível dessa linha (em direção ao canto superior esquerdo). Assim, pode ser observado que a curva ROC encontrada no modelo Random Forest é o que nos direciona que dentro os modelos aplicados, o modelo Random Forest é o melhor modelo utilizado nesta abordagem.\n",
    "            \n",
    "            Aplicar os dados em diferente modelos é uma boa prática para que sejam avaliadas diversas possibilidades e escolher a que possuir uma melhor acurácia para uma previsão. Edxistem diversas bibliotecas voltadas para machine learning que podem ser aplicadas neste contexto e ampliar as opções de verificação das previsões."
   ]
  }
 ],
 "metadata": {
  "kernelspec": {
   "display_name": "Python 3",
   "language": "python",
   "name": "python3"
  },
  "language_info": {
   "codemirror_mode": {
    "name": "ipython",
    "version": 3
   },
   "file_extension": ".py",
   "mimetype": "text/x-python",
   "name": "python",
   "nbconvert_exporter": "python",
   "pygments_lexer": "ipython3",
   "version": "3.8.5"
  }
 },
 "nbformat": 4,
 "nbformat_minor": 4
}
